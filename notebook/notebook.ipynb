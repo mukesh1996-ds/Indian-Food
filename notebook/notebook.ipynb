{
 "cells": [
  {
   "cell_type": "code",
   "execution_count": 1,
   "metadata": {},
   "outputs": [],
   "source": [
    "import pandas as pd"
   ]
  },
  {
   "cell_type": "code",
   "execution_count": 9,
   "metadata": {},
   "outputs": [],
   "source": [
    "df = pd.read_csv('D:\\Final submission\\PowerBI\\Indian-Food\\Dataset\\indian_food.csv')"
   ]
  },
  {
   "cell_type": "code",
   "execution_count": 10,
   "metadata": {},
   "outputs": [
    {
     "data": {
      "text/html": [
       "<div>\n",
       "<style scoped>\n",
       "    .dataframe tbody tr th:only-of-type {\n",
       "        vertical-align: middle;\n",
       "    }\n",
       "\n",
       "    .dataframe tbody tr th {\n",
       "        vertical-align: top;\n",
       "    }\n",
       "\n",
       "    .dataframe thead th {\n",
       "        text-align: right;\n",
       "    }\n",
       "</style>\n",
       "<table border=\"1\" class=\"dataframe\">\n",
       "  <thead>\n",
       "    <tr style=\"text-align: right;\">\n",
       "      <th></th>\n",
       "      <th>name</th>\n",
       "      <th>ingredients</th>\n",
       "      <th>diet</th>\n",
       "      <th>prep_time</th>\n",
       "      <th>cook_time</th>\n",
       "      <th>flavor_profile</th>\n",
       "      <th>course</th>\n",
       "      <th>state</th>\n",
       "      <th>region</th>\n",
       "    </tr>\n",
       "  </thead>\n",
       "  <tbody>\n",
       "    <tr>\n",
       "      <th>0</th>\n",
       "      <td>Balu shahi</td>\n",
       "      <td>Maida flour, yogurt, oil, sugar</td>\n",
       "      <td>vegetarian</td>\n",
       "      <td>45</td>\n",
       "      <td>25</td>\n",
       "      <td>sweet</td>\n",
       "      <td>dessert</td>\n",
       "      <td>West Bengal</td>\n",
       "      <td>East</td>\n",
       "    </tr>\n",
       "    <tr>\n",
       "      <th>1</th>\n",
       "      <td>Boondi</td>\n",
       "      <td>Gram flour, ghee, sugar</td>\n",
       "      <td>vegetarian</td>\n",
       "      <td>80</td>\n",
       "      <td>30</td>\n",
       "      <td>sweet</td>\n",
       "      <td>dessert</td>\n",
       "      <td>Rajasthan</td>\n",
       "      <td>West</td>\n",
       "    </tr>\n",
       "    <tr>\n",
       "      <th>2</th>\n",
       "      <td>Gajar ka halwa</td>\n",
       "      <td>Carrots, milk, sugar, ghee, cashews, raisins</td>\n",
       "      <td>vegetarian</td>\n",
       "      <td>15</td>\n",
       "      <td>60</td>\n",
       "      <td>sweet</td>\n",
       "      <td>dessert</td>\n",
       "      <td>Punjab</td>\n",
       "      <td>North</td>\n",
       "    </tr>\n",
       "    <tr>\n",
       "      <th>3</th>\n",
       "      <td>Ghevar</td>\n",
       "      <td>Flour, ghee, kewra, milk, clarified butter, su...</td>\n",
       "      <td>vegetarian</td>\n",
       "      <td>15</td>\n",
       "      <td>30</td>\n",
       "      <td>sweet</td>\n",
       "      <td>dessert</td>\n",
       "      <td>Rajasthan</td>\n",
       "      <td>West</td>\n",
       "    </tr>\n",
       "    <tr>\n",
       "      <th>4</th>\n",
       "      <td>Gulab jamun</td>\n",
       "      <td>Milk powder, plain flour, baking powder, ghee,...</td>\n",
       "      <td>vegetarian</td>\n",
       "      <td>15</td>\n",
       "      <td>40</td>\n",
       "      <td>sweet</td>\n",
       "      <td>dessert</td>\n",
       "      <td>West Bengal</td>\n",
       "      <td>East</td>\n",
       "    </tr>\n",
       "  </tbody>\n",
       "</table>\n",
       "</div>"
      ],
      "text/plain": [
       "             name                                        ingredients  \\\n",
       "0      Balu shahi                    Maida flour, yogurt, oil, sugar   \n",
       "1          Boondi                            Gram flour, ghee, sugar   \n",
       "2  Gajar ka halwa       Carrots, milk, sugar, ghee, cashews, raisins   \n",
       "3          Ghevar  Flour, ghee, kewra, milk, clarified butter, su...   \n",
       "4     Gulab jamun  Milk powder, plain flour, baking powder, ghee,...   \n",
       "\n",
       "         diet  prep_time  cook_time flavor_profile   course        state  \\\n",
       "0  vegetarian         45         25          sweet  dessert  West Bengal   \n",
       "1  vegetarian         80         30          sweet  dessert    Rajasthan   \n",
       "2  vegetarian         15         60          sweet  dessert       Punjab   \n",
       "3  vegetarian         15         30          sweet  dessert    Rajasthan   \n",
       "4  vegetarian         15         40          sweet  dessert  West Bengal   \n",
       "\n",
       "  region  \n",
       "0   East  \n",
       "1   West  \n",
       "2  North  \n",
       "3   West  \n",
       "4   East  "
      ]
     },
     "execution_count": 10,
     "metadata": {},
     "output_type": "execute_result"
    }
   ],
   "source": [
    "df.head()"
   ]
  },
  {
   "cell_type": "code",
   "execution_count": 11,
   "metadata": {},
   "outputs": [
    {
     "data": {
      "text/plain": [
       "Gujarat            35\n",
       "Punjab             32\n",
       "Maharashtra        30\n",
       "West Bengal        24\n",
       "-1                 24\n",
       "Assam              21\n",
       "Tamil Nadu         20\n",
       "Andhra Pradesh     10\n",
       "Uttar Pradesh       9\n",
       "Kerala              8\n",
       "Odisha              7\n",
       "Karnataka           6\n",
       "Rajasthan           6\n",
       "Telangana           5\n",
       "Bihar               3\n",
       "Goa                 3\n",
       "Manipur             2\n",
       "Jammu & Kashmir     2\n",
       "Madhya Pradesh      2\n",
       "Uttarakhand         1\n",
       "Tripura             1\n",
       "Nagaland            1\n",
       "NCT of Delhi        1\n",
       "Chhattisgarh        1\n",
       "Haryana             1\n",
       "Name: state, dtype: int64"
      ]
     },
     "execution_count": 11,
     "metadata": {},
     "output_type": "execute_result"
    }
   ],
   "source": [
    "df['state'].value_counts()"
   ]
  },
  {
   "cell_type": "code",
   "execution_count": null,
   "metadata": {},
   "outputs": [],
   "source": []
  }
 ],
 "metadata": {
  "kernelspec": {
   "display_name": "Python 3.7.13 ('db')",
   "language": "python",
   "name": "python3"
  },
  "language_info": {
   "codemirror_mode": {
    "name": "ipython",
    "version": 3
   },
   "file_extension": ".py",
   "mimetype": "text/x-python",
   "name": "python",
   "nbconvert_exporter": "python",
   "pygments_lexer": "ipython3",
   "version": "3.7.13"
  },
  "orig_nbformat": 4,
  "vscode": {
   "interpreter": {
    "hash": "38110404eef7c0d4ecffbb613a5d591b0f7effe63c9576e8044d61492c41e19c"
   }
  }
 },
 "nbformat": 4,
 "nbformat_minor": 2
}
